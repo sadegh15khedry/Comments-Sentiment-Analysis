{
 "cells": [
  {
   "cell_type": "code",
   "execution_count": 1,
   "metadata": {},
   "outputs": [
    {
     "name": "stderr",
     "output_type": "stream",
     "text": [
      "2024-08-22 13:53:49.220562: I tensorflow/stream_executor/platform/default/dso_loader.cc:53] Successfully opened dynamic library libcudart.so.11.0\n",
      "[nltk_data] Downloading package punkt to /home/sadegh/nltk_data...\n",
      "[nltk_data]   Package punkt is already up-to-date!\n"
     ]
    }
   ],
   "source": [
    "import os\n",
    "import sys\n",
    "sys.path.append(os.path.dirname('../src/'))\n",
    "from utils import load_data, save_dataframe_as_csv\n",
    "from data_prepocessing import claen_data, extract_features, split_data, encode_labels, convert_splitted_data_to_dataframe"
   ]
  },
  {
   "cell_type": "code",
   "execution_count": 2,
   "metadata": {},
   "outputs": [],
   "source": [
    "# Load the dataset\n",
    "df = load_data('../datasets/raw/imdb.csv')"
   ]
  },
  {
   "cell_type": "code",
   "execution_count": 3,
   "metadata": {},
   "outputs": [],
   "source": [
    "# Drop missing values\n",
    "df = df.dropna()"
   ]
  },
  {
   "cell_type": "code",
   "execution_count": 4,
   "metadata": {},
   "outputs": [],
   "source": [
    "df = df.sample(frac=.1)"
   ]
  },
  {
   "cell_type": "code",
   "execution_count": 5,
   "metadata": {},
   "outputs": [
    {
     "name": "stdout",
     "output_type": "stream",
     "text": [
      "                                                 comment     label\n",
      "28832  there legion mick garri hater feel couldnt dir...  positive\n",
      "42373  rent movi simpli rosario dawson sat watch budd...  positive\n",
      "30297  okay start unimagin narrat lead charact justin...  positive\n",
      "17563  although may cassavet best work minni moskowit...  positive\n",
      "12168  gamer cant say like film fact right hate tri w...  negative\n",
      "...                                                  ...       ...\n",
      "49888  1955 five year one releas jame stewart anthoni...  positive\n",
      "20547  went film idea expect actual took date theater...  positive\n",
      "7275   dont get wrong love david suchet poirot love s...  negative\n",
      "37904  ye movi make feel real horror realiz paid spen...  negative\n",
      "12667  well sure wast dave mckean talent wasnt dont g...  negative\n",
      "\n",
      "[5000 rows x 2 columns]\n"
     ]
    }
   ],
   "source": [
    "# Apply text cleaning\n",
    "df = claen_data(df, 'comment')\n",
    "print(df)"
   ]
  },
  {
   "cell_type": "code",
   "execution_count": 6,
   "metadata": {},
   "outputs": [
    {
     "name": "stdout",
     "output_type": "stream",
     "text": [
      "(5000, 37985)\n"
     ]
    }
   ],
   "source": [
    "# Feature extraction\n",
    "x = extract_features(df, 'comment')\n",
    "print(x.shape)"
   ]
  },
  {
   "cell_type": "code",
   "execution_count": 7,
   "metadata": {},
   "outputs": [
    {
     "name": "stdout",
     "output_type": "stream",
     "text": [
      "(5000,)\n"
     ]
    }
   ],
   "source": [
    "# Encode the labels\n",
    "y = encode_labels(df, 'label')\n",
    "print(y.shape)"
   ]
  },
  {
   "cell_type": "code",
   "execution_count": 8,
   "metadata": {},
   "outputs": [],
   "source": [
    "# Split the data\n",
    "# x_train, x_test, y_train, y_test = split_data(x, y, test_size=.2)\n",
    "# X_train, X_test, y_train, y_test = train_test_split(X, y, test_size=0.2, random_state=42)"
   ]
  },
  {
   "cell_type": "code",
   "execution_count": 9,
   "metadata": {},
   "outputs": [
    {
     "name": "stdout",
     "output_type": "stream",
     "text": [
      "  (0, 37327)\t0.019972321685714427\n",
      "  (0, 29781)\t0.03317556344511355\n",
      "  (0, 24354)\t0.06277669070977206\n",
      "  (0, 20878)\t0.06812817975025047\n",
      "  (0, 8937)\t0.050350917957203416\n",
      "  (0, 35866)\t0.04927187655896469\n",
      "  (0, 6880)\t0.0486281232855916\n",
      "  (0, 7282)\t0.038402858386134026\n",
      "  (0, 19393)\t0.05742520166929364\n",
      "  (0, 17268)\t0.05964627029807194\n",
      "  (0, 17605)\t0.05074693125778882\n",
      "  (0, 4073)\t0.024735499985350937\n",
      "  (0, 1993)\t0.041869008505024896\n",
      "  (0, 16734)\t0.058456139692604485\n",
      "  (0, 29320)\t0.035109893724458184\n",
      "  (0, 7290)\t0.050350917957203416\n",
      "  (0, 16254)\t0.03078934270729062\n",
      "  (0, 4111)\t0.03000352262695789\n",
      "  (0, 17746)\t0.053676806194145804\n",
      "  (0, 3638)\t0.04199876898302248\n",
      "  (0, 9055)\t0.049974230240425965\n",
      "  (0, 30474)\t0.03325948347462646\n",
      "  (0, 34956)\t0.06812817975025047\n",
      "  (0, 33212)\t0.04161585249083652\n",
      "  (0, 14918)\t0.046722223588336824\n",
      "  :\t:\n",
      "  (0, 12026)\t0.061053896038160235\n",
      "  (0, 29028)\t0.019190641384815087\n",
      "  (0, 2926)\t0.04161585249083652\n",
      "  (0, 13237)\t0.039843407701488864\n",
      "  (0, 33731)\t0.023262878110463767\n",
      "  (0, 30743)\t0.1695475496591155\n",
      "  (0, 19478)\t0.02662389287596277\n",
      "  (0, 11428)\t0.030342942853674018\n",
      "  (0, 35663)\t0.04401396837659102\n",
      "  (0, 23743)\t0.0301997000305013\n",
      "  (0, 18441)\t0.06812817975025047\n",
      "  (0, 31921)\t0.0845300436112206\n",
      "  (0, 37477)\t0.030548055360620344\n",
      "  (0, 30745)\t0.06812817975025047\n",
      "  (0, 26849)\t0.03129579090206566\n",
      "  (0, 12261)\t0.02380757974819387\n",
      "  (0, 16054)\t0.05343572765736119\n",
      "  (0, 9429)\t0.04740562768645626\n",
      "  (0, 7790)\t0.02992094893395551\n",
      "  (0, 12076)\t0.022338131373886478\n",
      "  (0, 15161)\t0.058456139692604485\n",
      "  (0, 13514)\t0.23858508119228777\n",
      "  (0, 21404)\t0.05651584988637183\n",
      "  (0, 19204)\t0.05651584988637183\n",
      "  (0, 33572)\t0.025993529871305165\n"
     ]
    }
   ],
   "source": [
    "# Converting the splitted data into dataframe\n",
    "\n",
    "print(x[0])\n",
    "# Create DataFrames for training and test sets\n",
    "# train_df, test_df = convert_splitted_data_to_dataframe(x_train_dense, y_train, x_test_dense, y_test)\n",
    "x_train, x_test, x_val, y_train, y_val, y_test = split_data(x, y,  test_size=0.15,  val_size=0.15, random_state=50)\n"
   ]
  },
  {
   "cell_type": "code",
   "execution_count": null,
   "metadata": {},
   "outputs": [],
   "source": [
    "save_dataframe_as_csv(x_train, '../datasets/ready/train/x_train.csv')\n",
    "save_dataframe_as_csv(y_train, '../datasets/ready/train/y_train.csv')\n",
    "save_dataframe_as_csv(x_val, '../datasets/ready/val/x_val.csv')\n",
    "save_dataframe_as_csv(y_val, '../datasets/ready/val/y_val.csv')\n",
    "save_dataframe_as_csv(x_test, '../datasets/ready/test/x_test.csv')\n",
    "save_dataframe_as_csv(y_test, '../datasets/ready/test/y_test.csv')"
   ]
  }
 ],
 "metadata": {
  "kernelspec": {
   "display_name": "Python 3 (ipykernel)",
   "language": "python",
   "name": "python3"
  },
  "language_info": {
   "codemirror_mode": {
    "name": "ipython",
    "version": 3
   },
   "file_extension": ".py",
   "mimetype": "text/x-python",
   "name": "python",
   "nbconvert_exporter": "python",
   "pygments_lexer": "ipython3",
   "version": "3.9.19"
  }
 },
 "nbformat": 4,
 "nbformat_minor": 2
}
