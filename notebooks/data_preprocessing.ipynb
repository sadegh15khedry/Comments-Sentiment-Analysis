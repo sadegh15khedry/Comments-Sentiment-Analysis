{
 "cells": [
  {
   "cell_type": "code",
   "execution_count": 1,
   "metadata": {},
   "outputs": [
    {
     "name": "stderr",
     "output_type": "stream",
     "text": [
      "2024-08-22 14:32:49.578343: I tensorflow/stream_executor/platform/default/dso_loader.cc:53] Successfully opened dynamic library libcudart.so.11.0\n",
      "[nltk_data] Downloading package punkt to /home/sadegh/nltk_data...\n",
      "[nltk_data]   Package punkt is already up-to-date!\n"
     ]
    }
   ],
   "source": [
    "import os\n",
    "import sys\n",
    "sys.path.append(os.path.dirname('../src/'))\n",
    "from utils import load_data, save_dataframe_as_csv\n",
    "from data_prepocessing import claen_data, extract_features, split_data, encode_labels, convert_splitted_data_to_dataframe"
   ]
  },
  {
   "cell_type": "code",
   "execution_count": 2,
   "metadata": {},
   "outputs": [],
   "source": [
    "# Load the dataset\n",
    "df = load_data('../datasets/raw/imdb.csv')"
   ]
  },
  {
   "cell_type": "code",
   "execution_count": 3,
   "metadata": {},
   "outputs": [],
   "source": [
    "# Drop missing values\n",
    "df = df.dropna()"
   ]
  },
  {
   "cell_type": "code",
   "execution_count": 4,
   "metadata": {},
   "outputs": [],
   "source": [
    "df = df.sample(frac=.2)"
   ]
  },
  {
   "cell_type": "code",
   "execution_count": 5,
   "metadata": {},
   "outputs": [
    {
     "name": "stdout",
     "output_type": "stream",
     "text": [
      "                                                 comment     label\n",
      "486    ill comment lot what stereotyp charact absolut...  negative\n",
      "26220  hate movi hate show hate everyth annoy stupid ...  negative\n",
      "44882  live mexico citi suffer throug trailer everi p...  negative\n",
      "44978  yet anoth recent comedi show hollywood cant ev...  negative\n",
      "6698   start didnt bother see grudg preview movi didn...  negative\n",
      "...                                                  ...       ...\n",
      "14650  love movi watch origin twist plot man vs man v...  positive\n",
      "34689  antonioni movi age well alway surpris besid un...  negative\n",
      "30126  go see movi bit skeptic fantasi movi alway cup...  positive\n",
      "27315  movi slow dialogu actorsactress felt flat basi...  negative\n",
      "47869  best show ever matter sayi watch show sinc cyc...  positive\n",
      "\n",
      "[10000 rows x 2 columns]\n"
     ]
    }
   ],
   "source": [
    "# Apply text cleaning\n",
    "df = claen_data(df, 'comment')\n",
    "print(df)"
   ]
  },
  {
   "cell_type": "code",
   "execution_count": 6,
   "metadata": {},
   "outputs": [
    {
     "name": "stdout",
     "output_type": "stream",
     "text": [
      "(10000, 55358)\n"
     ]
    }
   ],
   "source": [
    "# Feature extraction\n",
    "x = extract_features(df, 'comment')\n",
    "print(x.shape)"
   ]
  },
  {
   "cell_type": "code",
   "execution_count": 7,
   "metadata": {},
   "outputs": [
    {
     "name": "stdout",
     "output_type": "stream",
     "text": [
      "(10000,)\n"
     ]
    }
   ],
   "source": [
    "# Encode the labels\n",
    "y = encode_labels(df, 'label')\n",
    "print(y.shape)"
   ]
  },
  {
   "cell_type": "code",
   "execution_count": 8,
   "metadata": {},
   "outputs": [
    {
     "ename": "",
     "evalue": "",
     "output_type": "error",
     "traceback": [
      "\u001b[1;31mThe Kernel crashed while executing code in the current cell or a previous cell. \n",
      "\u001b[1;31mPlease review the code in the cell(s) to identify a possible cause of the failure. \n",
      "\u001b[1;31mClick <a href='https://aka.ms/vscodeJupyterKernelCrash'>here</a> for more info. \n",
      "\u001b[1;31mView Jupyter <a href='command:jupyter.viewOutput'>log</a> for further details."
     ]
    }
   ],
   "source": [
    "# Split the data\n",
    "# x_train, x_test, y_train, y_test = split_data(x, y, test_size=.2)\n",
    "# X_train, X_test, y_train, y_test = train_test_split(X, y, test_size=0.2, random_state=42)"
   ]
  },
  {
   "cell_type": "code",
   "execution_count": 9,
   "metadata": {},
   "outputs": [
    {
     "ename": "",
     "evalue": "",
     "output_type": "error",
     "traceback": [
      "\u001b[1;31mCanceled future for execute_request message before replies were done"
     ]
    },
    {
     "ename": "",
     "evalue": "",
     "output_type": "error",
     "traceback": [
      "\u001b[1;31mCanceled future for execute_request message before replies were done. \n",
      "\u001b[1;31mView Jupyter <a href='command:jupyter.viewOutput'>log</a> for further details."
     ]
    }
   ],
   "source": [
    "# Converting the splitted data into dataframe\n",
    "\n",
    "# print(x[0])\n",
    "# Create DataFrames for training and test sets\n",
    "# train_df, test_df = convert_splitted_data_to_dataframe(x_train_dense, y_train, x_test_dense, y_test)\n",
    "x_train, x_test, x_val, y_train, y_val, y_test = split_data(x, y,  test_size=0.15,  val_size=0.15, random_state=50)\n"
   ]
  },
  {
   "cell_type": "code",
   "execution_count": null,
   "metadata": {},
   "outputs": [],
   "source": [
    "save_dataframe_as_csv(x_train, '../datasets/ready/train/x_train.csv')\n",
    "save_dataframe_as_csv(y_train, '../datasets/ready/train/y_train.csv')\n",
    "save_dataframe_as_csv(x_val, '../datasets/ready/val/x_val.csv')\n",
    "save_dataframe_as_csv(y_val, '../datasets/ready/val/y_val.csv')\n",
    "save_dataframe_as_csv(x_test, '../datasets/ready/test/x_test.csv')\n",
    "save_dataframe_as_csv(y_test, '../datasets/ready/test/y_test.csv')"
   ]
  }
 ],
 "metadata": {
  "kernelspec": {
   "display_name": "Python 3 (ipykernel)",
   "language": "python",
   "name": "python3"
  },
  "language_info": {
   "codemirror_mode": {
    "name": "ipython",
    "version": 3
   },
   "file_extension": ".py",
   "mimetype": "text/x-python",
   "name": "python",
   "nbconvert_exporter": "python",
   "pygments_lexer": "ipython3",
   "version": "3.9.19"
  }
 },
 "nbformat": 4,
 "nbformat_minor": 2
}
