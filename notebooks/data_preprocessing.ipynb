{
 "cells": [
  {
   "cell_type": "code",
   "execution_count": 1,
   "metadata": {},
   "outputs": [
    {
     "name": "stderr",
     "output_type": "stream",
     "text": [
      "2024-08-21 15:16:41.557974: I tensorflow/stream_executor/platform/default/dso_loader.cc:53] Successfully opened dynamic library libcudart.so.11.0\n",
      "[nltk_data] Downloading package punkt to /home/sadegh/nltk_data...\n",
      "[nltk_data]   Package punkt is already up-to-date!\n"
     ]
    }
   ],
   "source": [
    "import os\n",
    "import sys\n",
    "sys.path.append(os.path.dirname('../src/'))\n",
    "from utils import load_data, save_dataframe_as_csv\n",
    "from data_prepocessing import claen_data, extract_features, split_data, encode_labels, convert_splitted_data_to_dataframe"
   ]
  },
  {
   "cell_type": "code",
   "execution_count": 2,
   "metadata": {},
   "outputs": [],
   "source": [
    "# Load the dataset\n",
    "df = load_data('../datasets/raw/imdb.csv')"
   ]
  },
  {
   "cell_type": "code",
   "execution_count": 3,
   "metadata": {},
   "outputs": [],
   "source": [
    "# Drop missing values\n",
    "df = df.dropna()"
   ]
  },
  {
   "cell_type": "code",
   "execution_count": 4,
   "metadata": {},
   "outputs": [],
   "source": [
    "# df = df.sample(frac=.01)"
   ]
  },
  {
   "cell_type": "code",
   "execution_count": 5,
   "metadata": {},
   "outputs": [],
   "source": [
    "# Apply text cleaning\n",
    "df = claen_data(df, 'comment')\n",
    "print(df)"
   ]
  },
  {
   "cell_type": "code",
   "execution_count": null,
   "metadata": {},
   "outputs": [
    {
     "name": "stdout",
     "output_type": "stream",
     "text": [
      "(50000, 142260)\n"
     ]
    }
   ],
   "source": [
    "# Feature extraction\n",
    "x = extract_features(df, 'comment')\n",
    "print(x.shape)"
   ]
  },
  {
   "cell_type": "code",
   "execution_count": null,
   "metadata": {},
   "outputs": [
    {
     "name": "stdout",
     "output_type": "stream",
     "text": [
      "(50000,)\n"
     ]
    }
   ],
   "source": [
    "# Encode the labels\n",
    "y = encode_labels(df, 'label')\n",
    "print(y.shape)"
   ]
  },
  {
   "cell_type": "code",
   "execution_count": null,
   "metadata": {},
   "outputs": [],
   "source": [
    "# Split the data\n",
    "# x_train, x_test, y_train, y_test = split_data(x, y, test_size=.2)\n",
    "# X_train, X_test, y_train, y_test = train_test_split(X, y, test_size=0.2, random_state=42)"
   ]
  },
  {
   "cell_type": "code",
   "execution_count": null,
   "metadata": {},
   "outputs": [
    {
     "name": "stdout",
     "output_type": "stream",
     "text": [
      "  (0, 113799)\t0.04853042717349822\n",
      "  (0, 32063)\t0.07794511486634831\n",
      "  (0, 128078)\t0.04951397343179317\n",
      "  (0, 134490)\t0.1331895914162947\n",
      "  (0, 131153)\t0.07378274542019674\n",
      "  (0, 27229)\t0.0678111556029769\n",
      "  (0, 14036)\t0.039518889118803587\n",
      "  (0, 77979)\t0.038860617207548714\n",
      "  (0, 43027)\t0.04739784351311135\n",
      "  (0, 114799)\t0.05969319908437843\n",
      "  (0, 120239)\t0.05485686247064773\n",
      "  (0, 70143)\t0.045105832188218176\n",
      "  (0, 15901)\t0.08207994004867288\n",
      "  (0, 129817)\t0.03697761506830113\n",
      "  (0, 25666)\t0.05491729696671006\n",
      "  (0, 80030)\t0.05431802285180657\n",
      "  (0, 76676)\t0.05971902503084462\n",
      "  (0, 136891)\t0.02734682575806861\n",
      "  (0, 11655)\t0.04045612137609939\n",
      "  (0, 51220)\t0.048734949400063995\n",
      "  (0, 90879)\t0.050382430921264904\n",
      "  (0, 68494)\t0.03963180618541963\n",
      "  (0, 63330)\t0.17296344781278708\n",
      "  (0, 86409)\t0.11174165444049883\n",
      "  (0, 116360)\t0.07378274542019674\n",
      "  :\t:\n",
      "  (0, 113392)\t0.12196486735616491\n",
      "  (0, 129465)\t0.06348585968309846\n",
      "  (0, 52199)\t0.028172136574689175\n",
      "  (0, 139416)\t0.04517850731457925\n",
      "  (0, 111737)\t0.0369737480608232\n",
      "  (0, 134707)\t0.21200716527900965\n",
      "  (0, 108968)\t0.02819904139708102\n",
      "  (0, 131721)\t0.10000081290239013\n",
      "  (0, 19438)\t0.06133592001499922\n",
      "  (0, 120491)\t0.14975537506423953\n",
      "  (0, 125639)\t0.029158803848354144\n",
      "  (0, 46550)\t0.0574034226798585\n",
      "  (0, 18255)\t0.055222860156355816\n",
      "  (0, 78645)\t0.06865337163724078\n",
      "  (0, 56067)\t0.038097834598195754\n",
      "  (0, 42498)\t0.05172953403476328\n",
      "  (0, 105285)\t0.07630634804221371\n",
      "  (0, 59713)\t0.0662190972577425\n",
      "  (0, 141245)\t0.0488911615347683\n",
      "  (0, 41354)\t0.09486969216424822\n",
      "  (0, 92337)\t0.3996971000171565\n",
      "  (0, 136167)\t0.07253438816743517\n",
      "  (0, 79314)\t0.04711939831249886\n",
      "  (0, 104800)\t0.04433423873090116\n",
      "  (0, 90129)\t0.01878825721104771\n"
     ]
    }
   ],
   "source": [
    "# Converting the splitted data into dataframe\n",
    "\n",
    "print(x[0])\n",
    "# Create DataFrames for training and test sets\n",
    "# train_df, test_df = convert_splitted_data_to_dataframe(x_train_dense, y_train, x_test_dense, y_test)\n",
    "x_train, x_test, x_val, y_train, y_val, y_test = split_data(x, y,  test_size=0.15,  val_size=0.15, random_state=50)\n"
   ]
  },
  {
   "cell_type": "code",
   "execution_count": null,
   "metadata": {},
   "outputs": [],
   "source": [
    "save_dataframe_as_csv(x_train, '../datasets/ready/train/x_train.csv')\n",
    "save_dataframe_as_csv(y_train, '../datasets/ready/train/y_train.csv')\n",
    "save_dataframe_as_csv(x_val, '../datasets/ready/val/x_val.csv')\n",
    "save_dataframe_as_csv(y_val, '../datasets/ready/val/y_val.csv')\n",
    "save_dataframe_as_csv(x_test, '../datasets/ready/test/x_test.csv')\n",
    "save_dataframe_as_csv(y_test, '../datasets/ready/test/y_test.csv')"
   ]
  }
 ],
 "metadata": {
  "kernelspec": {
   "display_name": "Python 3 (ipykernel)",
   "language": "python",
   "name": "python3"
  },
  "language_info": {
   "codemirror_mode": {
    "name": "ipython",
    "version": 3
   },
   "file_extension": ".py",
   "mimetype": "text/x-python",
   "name": "python",
   "nbconvert_exporter": "python",
   "pygments_lexer": "ipython3",
   "version": "3.9.19"
  }
 },
 "nbformat": 4,
 "nbformat_minor": 2
}
