{
 "cells": [
  {
   "cell_type": "code",
   "execution_count": 1,
   "metadata": {},
   "outputs": [
    {
     "name": "stderr",
     "output_type": "stream",
     "text": [
      "[nltk_data] Downloading package punkt to /home/sadegh/nltk_data...\n",
      "[nltk_data]   Package punkt is already up-to-date!\n"
     ]
    }
   ],
   "source": [
    "import os\n",
    "import sys\n",
    "sys.path.append(os.path.dirname('../src/'))\n",
    "from utils import load_data, save_dataframe_as_csv\n",
    "from data_prepocessing import claen_data, extract_features, split_data, encode_labels, convert_splitted_data_to_dataframe"
   ]
  },
  {
   "cell_type": "code",
   "execution_count": 2,
   "metadata": {},
   "outputs": [],
   "source": [
    "# Load the dataset\n",
    "df = load_data('../datasets/raw/imdb.csv')"
   ]
  },
  {
   "cell_type": "code",
   "execution_count": 3,
   "metadata": {},
   "outputs": [],
   "source": [
    "# Drop missing values\n",
    "df = df.dropna()"
   ]
  },
  {
   "cell_type": "code",
   "execution_count": 4,
   "metadata": {},
   "outputs": [],
   "source": [
    "df = df.sample(frac=.01)"
   ]
  },
  {
   "cell_type": "code",
   "execution_count": 5,
   "metadata": {},
   "outputs": [
    {
     "name": "stdout",
     "output_type": "stream",
     "text": [
      "                                                 comment     label\n",
      "25183  simpli astonish movi ever see thought anoth do...  positive\n",
      "39011  bad act bad write poorli written film bad pote...  negative\n",
      "2886   excel exampl spectacular busbi berkeley music ...  positive\n",
      "1683   name frau main charact german word woman dont ...  negative\n",
      "23938  movi contain short scene deneuv bathtub look a...  negative\n",
      "...                                                  ...       ...\n",
      "33227  surpris saw film id heard best ever film novel...  negative\n",
      "16430  back bought chines box set fist north star cam...  positive\n",
      "45339  think everyon quit disappoint scifi flick one ...  negative\n",
      "3334   hilari film great time watch star cuneyt arkin...  positive\n",
      "26762  contrari comment section say film bare escap d...  negative\n",
      "\n",
      "[500 rows x 2 columns]\n"
     ]
    }
   ],
   "source": [
    "# Apply text cleaning\n",
    "df = claen_data(df, 'comment')\n",
    "print(df)"
   ]
  },
  {
   "cell_type": "code",
   "execution_count": 6,
   "metadata": {},
   "outputs": [
    {
     "name": "stdout",
     "output_type": "stream",
     "text": [
      "(500, 9940)\n"
     ]
    }
   ],
   "source": [
    "# Feature extraction\n",
    "x = extract_features(df, 'comment')\n",
    "print(x.shape)"
   ]
  },
  {
   "cell_type": "code",
   "execution_count": 7,
   "metadata": {},
   "outputs": [
    {
     "name": "stdout",
     "output_type": "stream",
     "text": [
      "(500,)\n"
     ]
    }
   ],
   "source": [
    "# Encode the labels\n",
    "y = encode_labels(df, 'label')\n",
    "print(y.shape)"
   ]
  },
  {
   "cell_type": "code",
   "execution_count": 8,
   "metadata": {},
   "outputs": [],
   "source": [
    "# Split the data\n",
    "# x_train, x_test, y_train, y_test = split_data(x, y, test_size=.2)\n",
    "# X_train, X_test, y_train, y_test = train_test_split(X, y, test_size=0.2, random_state=42)"
   ]
  },
  {
   "cell_type": "code",
   "execution_count": 9,
   "metadata": {},
   "outputs": [
    {
     "name": "stdout",
     "output_type": "stream",
     "text": [
      "  (0, 6734)\t0.10354178445596451\n",
      "  (0, 7063)\t0.09611245914856816\n",
      "  (0, 2797)\t0.12399357497909694\n",
      "  (0, 9815)\t0.05484563751930817\n",
      "  (0, 6)\t0.1369351682816531\n",
      "  (0, 8821)\t0.13379556867922207\n",
      "  (0, 5129)\t0.045292267226479305\n",
      "  (0, 5603)\t0.09403433284422247\n",
      "  (0, 4994)\t0.08028492657694829\n",
      "  (0, 5465)\t0.0954015960139063\n",
      "  (0, 3775)\t0.06180854243228263\n",
      "  (0, 3328)\t0.04077351251226263\n",
      "  (0, 9774)\t0.0841300135375222\n",
      "  (0, 7605)\t0.10765079226343907\n",
      "  (0, 6134)\t0.1630799446974361\n",
      "  (0, 7889)\t0.10551719083443126\n",
      "  (0, 1055)\t0.1630799446974361\n",
      "  (0, 6212)\t0.04132125345167437\n",
      "  (0, 586)\t0.12612717640810472\n",
      "  (0, 2644)\t0.06409175578508874\n",
      "  (0, 9881)\t0.09089473324179143\n",
      "  (0, 1087)\t0.1494634852782195\n",
      "  (0, 9021)\t0.1554115524263188\n",
      "  (0, 6628)\t0.3108231048526376\n",
      "  (0, 3530)\t0.1630799446974361\n",
      "  :\t:\n",
      "  (0, 6146)\t0.10451119266100803\n",
      "  (0, 6584)\t0.10170272511533977\n",
      "  (0, 6965)\t0.10765079226343907\n",
      "  (0, 8643)\t0.09684280038989072\n",
      "  (0, 9777)\t0.1099701490628392\n",
      "  (0, 1200)\t0.15849598779127702\n",
      "  (0, 5914)\t0.17388793657098445\n",
      "  (0, 9788)\t0.07394195164623162\n",
      "  (0, 5109)\t0.07589324604858198\n",
      "  (0, 7882)\t0.06805667790238676\n",
      "  (0, 558)\t0.0841300135375222\n",
      "  (0, 8679)\t0.14049455274529585\n",
      "  (0, 9032)\t0.07241834909712576\n",
      "  (0, 2623)\t0.0819258007088678\n",
      "  (0, 2890)\t0.09470919896088291\n",
      "  (0, 8124)\t0.07522681664279403\n",
      "  (0, 7096)\t0.06083203075277226\n",
      "  (0, 2620)\t0.12612717640810472\n",
      "  (0, 527)\t0.07950087629513146\n",
      "  (0, 8831)\t0.0823523024121912\n",
      "  (0, 7680)\t0.21284649484455012\n",
      "  (0, 3056)\t0.13462549433833393\n",
      "  (0, 5791)\t0.11384093810791722\n",
      "  (0, 693)\t0.1554115524263188\n",
      "  (0, 7944)\t0.09684280038989072\n"
     ]
    }
   ],
   "source": [
    "# Converting the splitted data into dataframe\n",
    "\n",
    "print(x[0])\n",
    "# Create DataFrames for training and test sets\n",
    "# train_df, test_df = convert_splitted_data_to_dataframe(x_train_dense, y_train, x_test_dense, y_test)\n",
    "x_train, x_test, x_val, y_train, y_val, y_test = split_data(x, y,  test_size=0.15,  val_size=0.15, random_state=50)\n"
   ]
  },
  {
   "cell_type": "code",
   "execution_count": 10,
   "metadata": {},
   "outputs": [],
   "source": [
    "save_dataframe_as_csv(x_train, '../datasets/ready/train/x_train.csv')\n",
    "save_dataframe_as_csv(y_train, '../datasets/ready/train/y_train.csv')\n",
    "save_dataframe_as_csv(x_val, '../datasets/ready/val/x_val.csv')\n",
    "save_dataframe_as_csv(y_val, '../datasets/ready/val/y_val.csv')\n",
    "save_dataframe_as_csv(x_test, '../datasets/ready/test/x_test.csv')\n",
    "save_dataframe_as_csv(y_test, '../datasets/ready/test/y_test.csv')"
   ]
  }
 ],
 "metadata": {
  "kernelspec": {
   "display_name": "Python 3 (ipykernel)",
   "language": "python",
   "name": "python3"
  },
  "language_info": {
   "codemirror_mode": {
    "name": "ipython",
    "version": 3
   },
   "file_extension": ".py",
   "mimetype": "text/x-python",
   "name": "python",
   "nbconvert_exporter": "python",
   "pygments_lexer": "ipython3",
   "version": "3.9.19"
  }
 },
 "nbformat": 4,
 "nbformat_minor": 2
}
